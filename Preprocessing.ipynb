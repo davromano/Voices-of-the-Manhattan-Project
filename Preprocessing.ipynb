{
 "cells": [
  {
   "cell_type": "code",
   "execution_count": 89,
   "id": "2ed3c2b8",
   "metadata": {
    "scrolled": false
   },
   "outputs": [],
   "source": [
    "import pandas as pd\n",
    "\n",
    "df = pd.read_csv('results.csv')"
   ]
  },
  {
   "cell_type": "markdown",
   "id": "280c01b5",
   "metadata": {},
   "source": [
    "Preprocessing: converting a unique string in a list of strings for these attributes."
   ]
  },
  {
   "cell_type": "code",
   "execution_count": 90,
   "id": "cc6cbb73",
   "metadata": {},
   "outputs": [],
   "source": [
    "import ast\n",
    "\n",
    "df.tags = df.tags.apply(ast.literal_eval)\n",
    "df.subjects = df.subjects.apply(ast.literal_eval)\n",
    "df.locations = df.locations.apply(ast.literal_eval)\n",
    "df.interview_locations = df.interview_locations.apply(ast.literal_eval)\n",
    "df.collections = df.collections.apply(ast.literal_eval)"
   ]
  },
  {
   "cell_type": "code",
   "execution_count": 91,
   "id": "ee039d56",
   "metadata": {},
   "outputs": [
    {
     "name": "stdout",
     "output_type": "stream",
     "text": [
      "dataset variables:  ['name', 'transcript', 'locations', 'biography', 'interview_date', 'interview_locations', 'collections', 'subjects', 'tags']\n"
     ]
    }
   ],
   "source": [
    "#Print the variables of the dataset\n",
    "print(\"dataset variables: \", df.columns.tolist())"
   ]
  },
  {
   "cell_type": "code",
   "execution_count": 92,
   "id": "7e25927a",
   "metadata": {},
   "outputs": [
    {
     "name": "stdout",
     "output_type": "stream",
     "text": [
      "number of tags:  2042\n"
     ]
    }
   ],
   "source": [
    "# Print the counts\n",
    "print(\"number of tags: \", len(set([item for sublist in df.tags for item in sublist])))"
   ]
  },
  {
   "cell_type": "code",
   "execution_count": null,
   "id": "80cb890a",
   "metadata": {},
   "outputs": [],
   "source": []
  }
 ],
 "metadata": {
  "kernelspec": {
   "display_name": "Python 3 (ipykernel)",
   "language": "python",
   "name": "python3"
  },
  "language_info": {
   "codemirror_mode": {
    "name": "ipython",
    "version": 3
   },
   "file_extension": ".py",
   "mimetype": "text/x-python",
   "name": "python",
   "nbconvert_exporter": "python",
   "pygments_lexer": "ipython3",
   "version": "3.11.2"
  }
 },
 "nbformat": 4,
 "nbformat_minor": 5
}
