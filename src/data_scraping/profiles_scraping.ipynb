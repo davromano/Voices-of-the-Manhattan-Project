{
 "cells": [
  {
   "cell_type": "code",
   "execution_count": 1,
   "id": "a462c6d8-6216-426e-a9b7-2e6c03600eb6",
   "metadata": {},
   "outputs": [],
   "source": [
    "from bs4 import BeautifulSoup\n",
    "import requests\n",
    "import pandas as pd"
   ]
  },
  {
   "cell_type": "code",
   "execution_count": 2,
   "id": "287e1cce-68a2-4320-acdf-407531fee767",
   "metadata": {},
   "outputs": [],
   "source": [
    "def profile_scraper (url):\n",
    "    \"\"\"\n",
    "    Scrapes the names of people from the AHF Profiles page given its URL.\n",
    "    \"\"\"\n",
    "    name_list = []\n",
    "    \n",
    "    # Send a GET request to the URL and get the response\n",
    "    response = requests.get(url)\n",
    "    \n",
    "    # Parse the HTML content of the page with BeautifulSoup\n",
    "    soup = BeautifulSoup(response.content, 'html.parser')\n",
    "    \n",
    "    # Find the div element with the class name \n",
    "    div_element = soup.find('div', {'class': 'post-title-grid'})\n",
    "    \n",
    "    # Extract the names and store in a list\n",
    "    elements = div_element.find_all('a')\n",
    "    for element in elements:\n",
    "        name_list.append(element.text.strip())\n",
    "\n",
    "    return name_list"
   ]
  },
  {
   "cell_type": "code",
   "execution_count": 3,
   "id": "30b39409-a6c1-45e6-b5db-b765cb2e22d2",
   "metadata": {},
   "outputs": [],
   "source": [
    "main_url = \"https://ahf.nuclearmuseum.org/ahf/bios/\"\n",
    "\n",
    "name_list = []\n",
    "\n",
    "# Iterate over a range of pages to scrape\n",
    "for page in range(1, 288):\n",
    "    if page == 1:\n",
    "        current_url = main_url\n",
    "    else:\n",
    "        current_url = f'{main_url}?_paged={page}'\n",
    "\n",
    "    name_list = name_list + profile_scraper(current_url)"
   ]
  },
  {
   "cell_type": "code",
   "execution_count": 4,
   "id": "7334e005-fd96-465f-8d52-a8ec576b6758",
   "metadata": {},
   "outputs": [],
   "source": [
    "# Convert the list into a DataFrame\n",
    "name_df = pd.DataFrame({\"name\": name_list})\n",
    "\n",
    "# Export the DataFrame to a CSV file\n",
    "name_df.to_csv('../../data/profile_names.csv')"
   ]
  }
 ],
 "metadata": {
  "kernelspec": {
   "display_name": "Python 3 (ipykernel)",
   "language": "python",
   "name": "python3"
  },
  "language_info": {
   "codemirror_mode": {
    "name": "ipython",
    "version": 3
   },
   "file_extension": ".py",
   "mimetype": "text/x-python",
   "name": "python",
   "nbconvert_exporter": "python",
   "pygments_lexer": "ipython3",
   "version": "3.8.8"
  }
 },
 "nbformat": 4,
 "nbformat_minor": 5
}
