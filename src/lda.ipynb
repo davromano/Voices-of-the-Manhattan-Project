{
 "cells": [
  {
   "cell_type": "markdown",
   "id": "2a58cd6b-2df5-4a69-9fd6-e94687f2d1e7",
   "metadata": {},
   "source": [
    "# Latent Dirichlet Allocation"
   ]
  },
  {
   "cell_type": "markdown",
   "id": "8170f9d4-9396-4424-a081-df397896c755",
   "metadata": {},
   "source": [
    "## Packages"
   ]
  },
  {
   "cell_type": "code",
   "execution_count": 15,
   "id": "a74f49e1-26fc-4ca5-9173-b2e48d856a0d",
   "metadata": {},
   "outputs": [],
   "source": [
    "# Import Libraries\n",
    "import pandas as pd\n",
    "import numpy as np\n",
    "import matplotlib.pyplot as plt\n",
    "import seaborn as sns\n",
    "\n",
    "# Formatting\n",
    "import ast\n",
    "\n",
    "# NLP\n",
    "import nltk\n",
    "from nltk.corpus import stopwords\n",
    "from nltk.tokenize import RegexpTokenizer\n",
    "from nltk.stem import WordNetLemmatizer\n",
    "\n",
    "# LDA\n",
    "from gensim.corpora import Dictionary\n",
    "from gensim.models import LdaModel\n",
    "import pyLDAvis.gensim_models\n",
    "\n",
    "from gensim.models.coherencemodel import CoherenceModel"
   ]
  },
  {
   "cell_type": "code",
   "execution_count": 2,
   "id": "07ec22c8-7308-44b5-aafb-6576f472210a",
   "metadata": {},
   "outputs": [
    {
     "name": "stderr",
     "output_type": "stream",
     "text": [
      "[nltk_data] Downloading package stopwords to /Users/cindy/nltk_data...\n",
      "[nltk_data]   Package stopwords is already up-to-date!\n"
     ]
    }
   ],
   "source": [
    "# Load NLTK tools\n",
    "nltk.download('stopwords')\n",
    "stop_words = set(stopwords.words('english'))\n",
    "tokenizer = RegexpTokenizer(r'\\w+')\n",
    "lemmatizer = WordNetLemmatizer()"
   ]
  },
  {
   "cell_type": "markdown",
   "id": "07c60439-8811-4865-b998-f75923b7f8ce",
   "metadata": {},
   "source": [
    "## Load data"
   ]
  },
  {
   "cell_type": "code",
   "execution_count": 3,
   "id": "19505a90-366e-4f71-bd91-db4042bcf349",
   "metadata": {},
   "outputs": [],
   "source": [
    "# Load data\n",
    "data_folder = '../data/'\n",
    "df = pd.read_csv(data_folder + 'scraped_data_no_names.csv')\n",
    "transcript_df = pd.DataFrame(df['transcript'])"
   ]
  },
  {
   "cell_type": "markdown",
   "id": "8549d581-dc88-4a75-bab1-7e4435c0388f",
   "metadata": {},
   "source": [
    "## Text Processing: NLP pipeline"
   ]
  },
  {
   "cell_type": "code",
   "execution_count": 4,
   "id": "426a5c45-c8fd-4681-8d45-8196af7f3477",
   "metadata": {},
   "outputs": [],
   "source": [
    "# Tokenization\n",
    "transcript_df['tokenized'] = transcript_df['transcript'].apply(tokenizer.tokenize)"
   ]
  },
  {
   "cell_type": "code",
   "execution_count": 5,
   "id": "45e25bb3-d286-4dfb-9c9f-c4c08bf43014",
   "metadata": {},
   "outputs": [],
   "source": [
    "# Removing stopwords and Casefolding\n",
    "transcript_df['no_stopwords'] = transcript_df['tokenized'].apply(\n",
    "    lambda l: [s.casefold() for s in l if s.casefold() not in stop_words and s not in stop_words])"
   ]
  },
  {
   "cell_type": "code",
   "execution_count": 6,
   "id": "60eefca5-82db-4b93-9167-96f511ab4135",
   "metadata": {},
   "outputs": [],
   "source": [
    "# Lemmatization\n",
    "transcript_df['lemmatized'] = transcript_df['no_stopwords'].apply(\n",
    "    lambda l: [lemmatizer.lemmatize(s) for s in l])"
   ]
  },
  {
   "cell_type": "code",
   "execution_count": 7,
   "id": "6648c986-d90e-4993-9b76-05663a413088",
   "metadata": {
    "tags": []
   },
   "outputs": [
    {
     "data": {
      "text/html": [
       "<div>\n",
       "<style scoped>\n",
       "    .dataframe tbody tr th:only-of-type {\n",
       "        vertical-align: middle;\n",
       "    }\n",
       "\n",
       "    .dataframe tbody tr th {\n",
       "        vertical-align: top;\n",
       "    }\n",
       "\n",
       "    .dataframe thead th {\n",
       "        text-align: right;\n",
       "    }\n",
       "</style>\n",
       "<table border=\"1\" class=\"dataframe\">\n",
       "  <thead>\n",
       "    <tr style=\"text-align: right;\">\n",
       "      <th></th>\n",
       "      <th>transcript</th>\n",
       "      <th>tokenized</th>\n",
       "      <th>no_stopwords</th>\n",
       "      <th>lemmatized</th>\n",
       "    </tr>\n",
       "  </thead>\n",
       "  <tbody>\n",
       "    <tr>\n",
       "      <th>0</th>\n",
       "      <td>: This is Wednesday, March 20. :    March 20. ...</td>\n",
       "      <td>[This, is, Wednesday, March, 20, March, 20, 20...</td>\n",
       "      <td>[wednesday, march, 20, march, 20, 2019, cindy,...</td>\n",
       "      <td>[wednesday, march, 20, march, 20, 2019, cindy,...</td>\n",
       "    </tr>\n",
       "    <tr>\n",
       "      <th>1</th>\n",
       "      <td>Okay. It is January 15th, 2019, and we are in ...</td>\n",
       "      <td>[Okay, It, is, January, 15th, 2019, and, we, a...</td>\n",
       "      <td>[okay, january, 15th, 2019, lynnwood, washingt...</td>\n",
       "      <td>[okay, january, 15th, 2019, lynnwood, washingt...</td>\n",
       "    </tr>\n",
       "    <tr>\n",
       "      <th>2</th>\n",
       "      <td>Our second interview is with Richard Eymann, S...</td>\n",
       "      <td>[Our, second, interview, is, with, Richard, Ey...</td>\n",
       "      <td>[second, interview, richard, eymann, spokane, ...</td>\n",
       "      <td>[second, interview, richard, eymann, spokane, ...</td>\n",
       "    </tr>\n",
       "    <tr>\n",
       "      <th>3</th>\n",
       "      <td>It’s April 29, 2019. Our first interview is wi...</td>\n",
       "      <td>[It, s, April, 29, 2019, Our, first, interview...</td>\n",
       "      <td>[april, 29, 2019, first, interview, f, robert,...</td>\n",
       "      <td>[april, 29, 2019, first, interview, f, robert,...</td>\n",
       "    </tr>\n",
       "    <tr>\n",
       "      <th>4</th>\n",
       "      <td>How would you describe your mother, grandmothe...</td>\n",
       "      <td>[How, would, you, describe, your, mother, gran...</td>\n",
       "      <td>[would, describe, mother, grandmother, mary, e...</td>\n",
       "      <td>[would, describe, mother, grandmother, mary, e...</td>\n",
       "    </tr>\n",
       "  </tbody>\n",
       "</table>\n",
       "</div>"
      ],
      "text/plain": [
       "                                          transcript  \\\n",
       "0  : This is Wednesday, March 20. :    March 20. ...   \n",
       "1  Okay. It is January 15th, 2019, and we are in ...   \n",
       "2  Our second interview is with Richard Eymann, S...   \n",
       "3  It’s April 29, 2019. Our first interview is wi...   \n",
       "4  How would you describe your mother, grandmothe...   \n",
       "\n",
       "                                           tokenized  \\\n",
       "0  [This, is, Wednesday, March, 20, March, 20, 20...   \n",
       "1  [Okay, It, is, January, 15th, 2019, and, we, a...   \n",
       "2  [Our, second, interview, is, with, Richard, Ey...   \n",
       "3  [It, s, April, 29, 2019, Our, first, interview...   \n",
       "4  [How, would, you, describe, your, mother, gran...   \n",
       "\n",
       "                                        no_stopwords  \\\n",
       "0  [wednesday, march, 20, march, 20, 2019, cindy,...   \n",
       "1  [okay, january, 15th, 2019, lynnwood, washingt...   \n",
       "2  [second, interview, richard, eymann, spokane, ...   \n",
       "3  [april, 29, 2019, first, interview, f, robert,...   \n",
       "4  [would, describe, mother, grandmother, mary, e...   \n",
       "\n",
       "                                          lemmatized  \n",
       "0  [wednesday, march, 20, march, 20, 2019, cindy,...  \n",
       "1  [okay, january, 15th, 2019, lynnwood, washingt...  \n",
       "2  [second, interview, richard, eymann, spokane, ...  \n",
       "3  [april, 29, 2019, first, interview, f, robert,...  \n",
       "4  [would, describe, mother, grandmother, mary, e...  "
      ]
     },
     "execution_count": 7,
     "metadata": {},
     "output_type": "execute_result"
    }
   ],
   "source": [
    "transcript_df.head()"
   ]
  },
  {
   "cell_type": "markdown",
   "id": "5c5a4e01-d06b-4fa9-bfac-2b652712c109",
   "metadata": {},
   "source": [
    "---"
   ]
  },
  {
   "cell_type": "markdown",
   "id": "52a0fb53-8b70-44c2-b671-555d87c825eb",
   "metadata": {},
   "source": [
    "## Bag of Words (BoW)"
   ]
  },
  {
   "cell_type": "code",
   "execution_count": 8,
   "id": "7dd8b0e8-b996-4efc-a8ca-98b9435c7f7e",
   "metadata": {},
   "outputs": [],
   "source": [
    "# Create a gensim dictionary\n",
    "dictionary = Dictionary(transcript_df['lemmatized'])"
   ]
  },
  {
   "cell_type": "code",
   "execution_count": 9,
   "id": "70785cb3-bd49-44cb-bf6d-c6b3b33ee30e",
   "metadata": {},
   "outputs": [],
   "source": [
    "# Filter out tokens that appear in less than 30 documents and more than 50% documents, keep only the first 100000 most frequent tokens\n",
    "dictionary.filter_extremes(no_below=30, no_above=0.5, keep_n=100000)"
   ]
  },
  {
   "cell_type": "code",
   "execution_count": 10,
   "id": "9ef19943-d6fe-4e78-bac4-55eee8f46949",
   "metadata": {},
   "outputs": [],
   "source": [
    "# Create a bag-of-words representation of the documents\n",
    "corpus = [dictionary.doc2bow(text) for text in transcript_df['lemmatized']]"
   ]
  },
  {
   "cell_type": "markdown",
   "id": "3c9d645b-e5ce-4024-bfbc-e6fab5faf8ef",
   "metadata": {},
   "source": [
    "---"
   ]
  },
  {
   "cell_type": "markdown",
   "id": "9d5f9c43-161e-4dc0-8d2b-00fd16b3dfbc",
   "metadata": {},
   "source": [
    "## Topic Modelling: LDA"
   ]
  },
  {
   "cell_type": "markdown",
   "id": "cd0950dc-f0ea-45cb-8457-dc454440e617",
   "metadata": {},
   "source": [
    "### Coherence score to find the optimal number of topics"
   ]
  },
  {
   "cell_type": "code",
   "execution_count": 23,
   "id": "e0111d89-f784-44ba-8fbe-5981a506cc70",
   "metadata": {},
   "outputs": [
    {
     "name": "stdout",
     "output_type": "stream",
     "text": [
      "Number of topics: 10. Coherence score: 0.2279469057636599\n",
      "Number of topics: 20. Coherence score: 0.23413723305483547\n",
      "Number of topics: 30. Coherence score: 0.233098878658661\n",
      "Number of topics: 40. Coherence score: 0.23721941048235987\n",
      "Number of topics: 50. Coherence score: 0.23597116289469924\n",
      "Number of topics: 60. Coherence score: 0.24522735762758613\n",
      "Number of topics: 70. Coherence score: 0.2476052292351906\n",
      "Number of topics: 80. Coherence score: 0.24510492918686203\n",
      "Number of topics: 90. Coherence score: 0.2453715231565284\n"
     ]
    },
    {
     "name": "stderr",
     "output_type": "stream",
     "text": [
      "/Users/cindy/opt/anaconda3/lib/python3.8/site-packages/past/builtins/misc.py:45: DeprecationWarning: the imp module is deprecated in favour of importlib; see the module's documentation for alternative uses\n",
      "  from imp import reload\n",
      "/Users/cindy/opt/anaconda3/lib/python3.8/site-packages/joblib/backports.py:36: DeprecationWarning: distutils Version classes are deprecated. Use packaging.version instead.\n",
      "  if LooseVersion(np.__version__) < '1.13':\n",
      "/Users/cindy/opt/anaconda3/lib/python3.8/site-packages/setuptools/_distutils/version.py:346: DeprecationWarning: distutils Version classes are deprecated. Use packaging.version instead.\n",
      "  other = LooseVersion(other)\n",
      "/Users/cindy/opt/anaconda3/lib/python3.8/site-packages/joblib/backports.py:36: DeprecationWarning: distutils Version classes are deprecated. Use packaging.version instead.\n",
      "  if LooseVersion(np.__version__) < '1.13':\n",
      "/Users/cindy/opt/anaconda3/lib/python3.8/site-packages/setuptools/_distutils/version.py:346: DeprecationWarning: distutils Version classes are deprecated. Use packaging.version instead.\n",
      "  other = LooseVersion(other)\n"
     ]
    },
    {
     "name": "stdout",
     "output_type": "stream",
     "text": [
      "Number of topics: 100. Coherence score: 0.2487378279165097\n"
     ]
    }
   ],
   "source": [
    "# Define range of number of topics\n",
    "num_topics_range = range(10, 101, 10)\n",
    "\n",
    "# Compute coherence scores for different number of topics\n",
    "coherence_scores = []\n",
    "for num_topics in num_topics_range:\n",
    "    lda_model = LdaModel(\n",
    "        corpus=corpus,\n",
    "        id2word=dictionary,\n",
    "        num_topics=num_topics,\n",
    "        random_state=12345\n",
    "    )\n",
    "    coherence_model = CoherenceModel(model=lda_model, texts=transcript_df['lemmatized'], corpus=corpus, coherence='c_v', topn=20)\n",
    "    coherence_score = coherence_model.get_coherence()\n",
    "    coherence_scores.append(coherence_score)\n",
    "    print(f\"Number of topics: {num_topics}. Coherence score: {coherence_score}\")"
   ]
  },
  {
   "cell_type": "code",
   "execution_count": 24,
   "id": "4d25eae8-2427-4c18-acd4-f9e1d1488d12",
   "metadata": {},
   "outputs": [
    {
     "data": {
      "image/png": "[encoded data removed]",
      "text/plain": [
       "<Figure size 640x480 with 1 Axes>"
      ]
     },
     "metadata": {},
     "output_type": "display_data"
    }
   ],
   "source": [
    "sns.lineplot(x=num_topics_range, y=coherence_scores)\n",
    "plt.xlabel(\"Number of topics\")\n",
    "plt.ylabel(\"Average topic coherence score (C_v)\")\n",
    "plt.title(\"Topic Coherence vs Number of Topics\")\n",
    "plt.show()"
   ]
  },
  {
   "cell_type": "markdown",
   "id": "a45c6960-e192-4071-996e-8527ce33ba67",
   "metadata": {},
   "source": [
    "### With the optimal number of topics"
   ]
  },
  {
   "cell_type": "code",
   "execution_count": 25,
   "id": "06f29941-9a93-4923-abb8-2f98cd0c1f51",
   "metadata": {},
   "outputs": [],
   "source": [
    "# Train an LDA model on the corpus with the optimal number of topics\n",
    "num_topics = num_topics_range[np.array(coherence_scores).argmax()]\n",
    "lda_model = LdaModel(corpus=corpus, id2word=dictionary, num_topics=num_topics)"
   ]
  },
  {
   "cell_type": "code",
   "execution_count": 26,
   "id": "f42136c2-826b-4487-baaa-1f3b44b6cdd3",
   "metadata": {},
   "outputs": [
    {
     "name": "stderr",
     "output_type": "stream",
     "text": [
      "/Users/cindy/opt/anaconda3/lib/python3.8/site-packages/pyLDAvis/_prepare.py:246: FutureWarning: In a future version of pandas all arguments of DataFrame.drop except for the argument 'labels' will be keyword-only.\n",
      "  default_term_info = default_term_info.sort_values(\n"
     ]
    }
   ],
   "source": [
    "# Visualize the results using pyLDAvis\n",
    "vis_data = pyLDAvis.gensim_models.prepare(lda_model, corpus, dictionary)\n",
    "pyLDAvis.save_html(vis_data, f'../results/lda_{num_topics}.html')"
   ]
  },
  {
   "cell_type": "markdown",
   "id": "17ec1cfd-456d-43f9-a9a8-33c6247af099",
   "metadata": {},
   "source": [
    "---"
   ]
  }
 ],
 "metadata": {
  "kernelspec": {
   "display_name": "Python 3 (ipykernel)",
   "language": "python",
   "name": "python3"
  },
  "language_info": {
   "codemirror_mode": {
    "name": "ipython",
    "version": 3
   },
   "file_extension": ".py",
   "mimetype": "text/x-python",
   "name": "python",
   "nbconvert_exporter": "python",
   "pygments_lexer": "ipython3",
   "version": "3.8.8"
  }
 },
 "nbformat": 4,
 "nbformat_minor": 5
}
