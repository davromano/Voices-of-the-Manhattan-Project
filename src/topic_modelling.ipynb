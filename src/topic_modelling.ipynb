{
 "cells": [
  {
   "cell_type": "markdown",
   "id": "1332639c-300c-474f-9293-361201190cab",
   "metadata": {},
   "source": [
    "# Topic Modelling"
   ]
  },
  {
   "cell_type": "markdown",
   "id": "1fa23355-cba1-4d46-9e05-f81db061ff77",
   "metadata": {},
   "source": [
    "## Packages"
   ]
  },
  {
   "cell_type": "code",
   "execution_count": 1,
   "id": "de8f2537-b9b5-4349-8eff-a91471adb444",
   "metadata": {},
   "outputs": [
    {
     "name": "stderr",
     "output_type": "stream",
     "text": [
      "/Users/cindy/opt/anaconda3/lib/python3.8/site-packages/past/builtins/misc.py:45: DeprecationWarning: the imp module is deprecated in favour of importlib; see the module's documentation for alternative uses\n",
      "  from imp import reload\n"
     ]
    }
   ],
   "source": [
    "# Import Libraries\n",
    "import pandas as pd\n",
    "import numpy as np\n",
    "\n",
    "from gensim.corpora import Dictionary\n",
    "from gensim.models import LdaModel\n",
    "import pyLDAvis.gensim_models"
   ]
  },
  {
   "cell_type": "markdown",
   "id": "822da4f0-132e-4986-998d-7be4ca7ea166",
   "metadata": {},
   "source": [
    "## Load data"
   ]
  },
  {
   "cell_type": "code",
   "execution_count": 3,
   "id": "b2580fc2-a164-42ae-938b-1f54295d5b2d",
   "metadata": {},
   "outputs": [],
   "source": [
    "# Load data\n",
    "data_folder = '../data/'\n",
    "transcript_df = pd.read_csv(data_folder + 'processed_transcripts.csv')"
   ]
  },
  {
   "cell_type": "markdown",
   "id": "64107c03-c900-49e4-af28-2830b0761c91",
   "metadata": {},
   "source": [
    "## Bag of Words (BoW)"
   ]
  },
  {
   "cell_type": "code",
   "execution_count": 9,
   "id": "40f388aa-0b5b-4e4e-a1bb-2bfd39b3549a",
   "metadata": {},
   "outputs": [],
   "source": [
    "# Create a gensim dictionary\n",
    "dictionary = Dictionary(transcript_df['lemmatized'])"
   ]
  },
  {
   "cell_type": "code",
   "execution_count": 10,
   "id": "1311b775-6550-4c2d-a591-3c2c2c3636e0",
   "metadata": {},
   "outputs": [],
   "source": [
    "# Create a bag-of-words representation of the documents\n",
    "corpus = [dictionary.doc2bow(text) for text in transcript_df['lemmatized']]"
   ]
  },
  {
   "cell_type": "markdown",
   "id": "20e8c0c0-a67b-4e0d-bd9b-304be85309ad",
   "metadata": {},
   "source": [
    "## Topic Modelling: LDA"
   ]
  },
  {
   "cell_type": "code",
   "execution_count": 11,
   "id": "b30ccc43-f4a6-440d-a05a-492e9fe4a095",
   "metadata": {},
   "outputs": [],
   "source": [
    "# Train an LDA model on the corpus\n",
    "lda_model = LdaModel(corpus=corpus, id2word=dictionary, num_topics=10)"
   ]
  },
  {
   "cell_type": "code",
   "execution_count": 12,
   "id": "2ea8b676-8bab-4ef5-a4e2-b0892bbe9268",
   "metadata": {},
   "outputs": [
    {
     "name": "stderr",
     "output_type": "stream",
     "text": [
      "/Users/cindy/opt/anaconda3/lib/python3.8/site-packages/pyLDAvis/_prepare.py:246: FutureWarning: In a future version of pandas all arguments of DataFrame.drop except for the argument 'labels' will be keyword-only.\n",
      "  default_term_info = default_term_info.sort_values(\n"
     ]
    }
   ],
   "source": [
    "# Visualize the results using pyLDAvis\n",
    "pyLDAvis.enable_notebook()\n",
    "vis_data = pyLDAvis.gensim_models.prepare(lda_model, corpus, dictionary)\n",
    "pyLDAvis.save_html(vis_data, '../results/topic_modeling.html')"
   ]
  },
  {
   "cell_type": "markdown",
   "id": "15c0b7e5-04af-4448-a9f2-f3c67058a4d3",
   "metadata": {},
   "source": [
    "---"
   ]
  }
 ],
 "metadata": {
  "kernelspec": {
   "display_name": "Python 3 (ipykernel)",
   "language": "python",
   "name": "python3"
  },
  "language_info": {
   "codemirror_mode": {
    "name": "ipython",
    "version": 3
   },
   "file_extension": ".py",
   "mimetype": "text/x-python",
   "name": "python",
   "nbconvert_exporter": "python",
   "pygments_lexer": "ipython3",
   "version": "3.8.8"
  }
 },
 "nbformat": 4,
 "nbformat_minor": 5
}
